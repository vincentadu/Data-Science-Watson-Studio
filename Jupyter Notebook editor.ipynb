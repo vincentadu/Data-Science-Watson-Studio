{
    "cells": [
        {
            "cell_type": "markdown",
            "metadata": {
                "collapsed": true
            },
            "source": "# My Jupyter Notebook on IBM Watson Studio"
        },
        {
            "cell_type": "markdown",
            "metadata": {},
            "source": "**Vincent Angelo Ortiz <br> Data Analyst**\n"
        },
        {
            "cell_type": "markdown",
            "metadata": {},
            "source": "_I am interested in data science because I like computer. <br>I am seing that this profession is my calling and i want to pursue it badly._"
        },
        {
            "cell_type": "markdown",
            "metadata": {},
            "source": "### Arithmetic Sample"
        },
        {
            "cell_type": "code",
            "execution_count": 1,
            "metadata": {},
            "outputs": [
                {
                    "data": {
                        "text/plain": "9"
                    },
                    "execution_count": 1,
                    "metadata": {},
                    "output_type": "execute_result"
                }
            ],
            "source": "5 + 4"
        },
        {
            "cell_type": "markdown",
            "metadata": {},
            "source": " ![skill_network](data:image/png;base64,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)<br>\n[Data Science Tool and Ecosystem](https://github.com/vincentadu/DataScience/blob/main/DataScienceEcosystem.ipynb)<br>\n### Summary\n- List popular languages for Data Science\n- Commonly Used Libraries for Data Sciece\n- Data Sciece Development Environment Tools\n- Arithmetic Expressions in Python\n"
        },
        {
            "cell_type": "code",
            "execution_count": null,
            "metadata": {},
            "outputs": [],
            "source": ""
        }
    ],
    "metadata": {
        "kernelspec": {
            "display_name": "Python 3.10",
            "language": "python",
            "name": "python3"
        },
        "language_info": {
            "codemirror_mode": {
                "name": "ipython",
                "version": 3
            },
            "file_extension": ".py",
            "mimetype": "text/x-python",
            "name": "python",
            "nbconvert_exporter": "python",
            "pygments_lexer": "ipython3",
            "version": "3.10.13"
        }
    },
    "nbformat": 4,
    "nbformat_minor": 1
}